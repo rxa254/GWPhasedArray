{
 "cells": [
  {
   "cell_type": "markdown",
   "metadata": {},
   "source": [
    "# <font color='Indigo'>Gravitational Wave Generation Array</font>\n",
    "\n",
    "A Phase Array of dumbells can make a detectable signal...\n",
    "\n",
    "#### To do:\n",
    "1. Calculate the dumbell parameters for given mass and frequency\n",
    "1. How many dumbells?\n",
    "1. Far-field radiation pattern from many radiators.\n",
    "1. Beamed GW won't be a plane wave. So what?\n",
    "1. How much energy is lost to keep it spinning?\n",
    "1. How do we levitate while spinning?\n",
    "\n",
    "##### Python Style Guide (don't write crappy obfuscated code):\n",
    "- http://docs.python-guide.org/en/latest/writing/style/\n",
    "- http://python.net/~goodger/projects/pycon/2007/idiomatic/handout.html\n",
    "\n",
    "##### Run ipython notebook with a remote kernel\n",
    "- https://github.com/gammapy/gammapy/wiki/IPython-Notebook-with-Remote-Kernel"
   ]
  },
  {
   "cell_type": "markdown",
   "metadata": {},
   "source": [
    "## <font color='Navy'>Imports, settings, and constants</font>"
   ]
  },
  {
   "cell_type": "code",
   "execution_count": 1,
   "metadata": {},
   "outputs": [],
   "source": [
    "%matplotlib inline\n",
    "#from __future__ import division\n",
    "#from __future__ import print_function\n",
    "import numpy as np\n",
    "#import matplotlib as mpl\n",
    "import matplotlib.pyplot as plt\n",
    "#import multiprocessing as mproc\n",
    "#import scipy.signal as sig\n",
    "import scipy.constants as scc\n",
    "#import scipy.special as scsp\n",
    "#import sys, time\n",
    "from scipy.io import loadmat\n",
    "\n",
    "# http://www.astropy.org/astropy-tutorials/Quantities.html\n",
    "# http://docs.astropy.org/en/stable/constants/index.html\n",
    "from astropy import constants as ascon\n",
    "\n",
    "# Update the matplotlib configuration parameters:\n",
    "plt.rcParams['figure.figsize'] = [10,8]\n",
    "plt.rcParams.update({'lines.linewidth': 2,\n",
    "                     'text.usetex': False,\n",
    "                     'font.size': 18,\n",
    "                     'font.family': 'serif'})\n",
    "\n",
    "def setGrid(ax):\n",
    "    ax.grid(which='major', alpha=0.6)\n",
    "    ax.grid(which='major', linestyle='solid', alpha=0.6)\n",
    "    \n",
    "cList = [(0, 0.1, 0.9),\n",
    "         (0.9, 0, 0),\n",
    "         (0, 0.7, 0),\n",
    "         (0, 0.8, 0.8),\n",
    "         (1.0, 0, 0.9),\n",
    "         (0.8, 0.8, 0),\n",
    "         (1, 0.5, 0),\n",
    "         (0.5, 0.5, 0.5),\n",
    "         (0.4, 0, 0.5),\n",
    "         (0, 0, 0),\n",
    "         (0.3, 0, 0),\n",
    "         (0, 0.3, 0)]\n",
    "\n",
    "G      = scc.G              # N * m**2 / kg**2; gravitational constant\n",
    "c      = scc.c"
   ]
  },
  {
   "cell_type": "markdown",
   "metadata": {},
   "source": [
    "## Terrestrial Dumbell (Current Tech)"
   ]
  },
  {
   "cell_type": "code",
   "execution_count": 55,
   "metadata": {},
   "outputs": [
    {
     "name": "stdout",
     "output_type": "stream",
     "text": [
      "Ball radius is 0.13 m\n",
      "Acceleration of ball = 1.5e+07 m/s**2\n",
      "Stress = 0.63x Yield Stress\n"
     ]
    }
   ],
   "source": [
    "sigma_yield = 4700e6       # ultimate tensile strength of S-glass bundle [Pa]\n",
    "m_dumb = 100               # mass of the dumbell end [kg]\n",
    "L_dumb = 3                 # Length of the dumbell [m]\n",
    "r_dumb = 40e-2             # radius of the dumbell rod [m]\n",
    "\n",
    "rho_pb = 11.34e3        # density of lead [kg/m^3]\n",
    "r_ball = ((m_dumb / rho_pb)/(4/3 * np.pi))**(1/3)\n",
    "\n",
    "\n",
    "f_rot = 1e3 / 2\n",
    "lamduh = c / f_rot\n",
    "\n",
    "v_dumb = 2*np.pi*(L_dumb/2) * f_rot\n",
    "a_dumb = v_dumb**2 / (L_dumb / 2)\n",
    "F = a_dumb * m_dumb\n",
    "\n",
    "stress = F / (np.pi * r_dumb**2)\n",
    "\n",
    "print('Ball radius is ' + '{:0.2f}'.format(r_ball) + ' m')\n",
    "print('Acceleration of ball = ' + '{:0.2g}'.format(a_dumb) + ' m/s**2')\n",
    "print('Stress = ' + '{:0.2f}'.format(stress/sigma_yield) + 'x Yield Stress')"
   ]
  },
  {
   "cell_type": "markdown",
   "metadata": {},
   "source": [
    "#### Futuristic Dumbell"
   ]
  },
  {
   "cell_type": "code",
   "execution_count": 64,
   "metadata": {},
   "outputs": [
    {
     "name": "stdout",
     "output_type": "stream",
     "text": [
      "Ball radius = 40.00 m\n",
      "Acceleration of ball = 2e+13 m/s**2\n",
      "Stress = 0.81x Yield Stress\n"
     ]
    }
   ],
   "source": [
    "sigma_yield = 5000e9    # ultimate tensile strength of ??? [Pa]\n",
    "m_f = 1000               # mass of the dumbell end [kg]\n",
    "L_f = 3000               # Length of the dumbell [m]\n",
    "r_f = 40            # radius of the dumbell rod [m]\n",
    "\n",
    "rho_pb = 11.34e3        # density of lead [kg/m^3]\n",
    "r_b = ((m_dumb / rho_pb)/(4/3 * np.pi))**(1/3)\n",
    "\n",
    "\n",
    "f_f = 37e3 / 2\n",
    "lamduh_f = c / f_f\n",
    "\n",
    "v_f = 2*np.pi*(L_f/2) * f_f\n",
    "a_f = v_f**2 / (L_f / 2)\n",
    "F = a_f * m_f\n",
    "\n",
    "stress = F / (np.pi * r_f**2)\n",
    "\n",
    "print('Ball radius = ' + '{:0.2f}'.format(r_f) + ' m')\n",
    "print('Acceleration of ball = ' + '{:0.2g}'.format(a_f) + ' m/s**2')\n",
    "print('Stress = ' + '{:0.2f}'.format(stress/sigma_yield) + 'x Yield Stress')"
   ]
  },
  {
   "cell_type": "markdown",
   "metadata": {},
   "source": [
    "## <font color='Navy'>Radiation of a dumbell</font>\n",
    "\n",
    "The dumbell is levitated from its middle point using a magnet. So we can spin it at any frequency without friction.\n",
    "\n",
    "The quadrupole formula for the strain from this rotating dumbell is:\n",
    "\n",
    "$\\ddot{I} = \\omega^2 \\frac{M R^2}{2}$\n",
    "\n",
    "The resulting strain is:\n",
    "\n",
    "$h = \\frac{2 G}{c^4 r} \\ddot{I}$\n",
    "\n"
   ]
  },
  {
   "cell_type": "code",
   "execution_count": 69,
   "metadata": {},
   "outputs": [
    {
     "name": "stdout",
     "output_type": "stream",
     "text": [
      "Strain from a single (2018) dumbell is 1.53e-41\n",
      "Strain from a single  (alien) dumbell  is 7.75e-30\n",
      "Strain from many (alien) dumbells is 2.66e-32 at 1 k lt-yr\n"
     ]
    }
   ],
   "source": [
    "r = 2 * lamduh   # take the distance to be 2 x wavelength\n",
    "\n",
    "h   = (2*G)/(c**4 * r) * (1/2 * m_dumb * (L_dumb/2)**2) * (2*np.pi*f_rot)**2\n",
    "\n",
    "print(\"Strain from a single (2018) dumbell is \" + '{:0.3g}'.format(h))\n",
    "\n",
    "\n",
    "r = 2 * lamduh_f   # take the distance to be 2 x wavelength\n",
    "\n",
    "h_f = (2*G)/(c**4 * r) * (1/2 * m_f * (L_f/2)**2) * (2*np.pi*f_f)**2\n",
    "d = c * 3600*24*365 * 1000\n",
    "\n",
    "print(\"Strain from a single  (alien) dumbell  is \" + '{:0.3g}'.format(h_f))\n",
    "print(\"Strain from many (alien) dumbells is \" + '{:0.3g}'.format(1e12*h_f*(r/d)) + ' at ' + str(1) + ' k lt-yr')"
   ]
  },
  {
   "cell_type": "markdown",
   "metadata": {},
   "source": [
    "## <font color='Navy'>Phased Array</font>\n",
    "\n",
    "Beam pattern for a 2D grid of rotating dumbells\n",
    "\n",
    "Treat them like point sources?\n",
    "\n",
    "Make an array and add up all the spherical waves"
   ]
  },
  {
   "cell_type": "code",
   "execution_count": null,
   "metadata": {},
   "outputs": [],
   "source": [
    "plt.figure()\n",
    "for ii, lam in enumerate(lamList):\n",
    "    lamStr = '{:.0e}'.format(lam)\n",
    "    plt.semilogx(gList, snrFrac[ii], 'o', ms=20, alpha=0.6,\n",
    "                 label='$\\\\lambda = {}\\\\times10^{{{}}}$ m'.format(*lamStr.split('e')))\n",
    "plt.legend(loc=2, numpoints=1)\n",
    "plt.grid()\n",
    "plt.xlabel(r'Coupling $g = \\delta_\\mathrm{SM}\\delta_\\mathrm{DM}$')\n",
    "plt.ylabel(r'Fraction with SNR > ' + str(snrThresh))\n",
    "#plt.ylim([-0.05, 0.2])\n",
    "plt.title('Yukawa-type DM clump interaction events in LISA')\n",
    "plt.text(0.1, 0.18, 'Mass range: $10^6$ to $10^{10}$ kg')\n",
    "plt.savefig('Figures/' + 'lisaYukawa.pdf')"
   ]
  },
  {
   "cell_type": "code",
   "execution_count": null,
   "metadata": {},
   "outputs": [],
   "source": []
  }
 ],
 "metadata": {
  "kernelspec": {
   "display_name": "Python 3",
   "language": "python",
   "name": "python3"
  },
  "language_info": {
   "codemirror_mode": {
    "name": "ipython",
    "version": 3
   },
   "file_extension": ".py",
   "mimetype": "text/x-python",
   "name": "python",
   "nbconvert_exporter": "python",
   "pygments_lexer": "ipython3",
   "version": "3.6.5"
  }
 },
 "nbformat": 4,
 "nbformat_minor": 1
}
